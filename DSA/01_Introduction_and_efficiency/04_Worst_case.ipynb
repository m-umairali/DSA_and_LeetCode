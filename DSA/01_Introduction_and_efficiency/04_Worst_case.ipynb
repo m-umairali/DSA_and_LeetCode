{
 "cells": [
  {
   "attachments": {},
   "cell_type": "markdown",
   "metadata": {},
   "source": [
    "# Worst Case Scenario.\n",
    "The worst-case scenario refers to the input data or situation that causes an algorithm to take the longest amount of time or require the most resources to complete its task.\n",
    "\n",
    "For example, consider a simple algorithm that searches for a value in a list of n elements:"
   ]
  },
  {
   "cell_type": "code",
   "execution_count": 1,
   "metadata": {},
   "outputs": [],
   "source": [
    "def linear_search(arr, target):\n",
    "    for i in range(len(arr)):\n",
    "        if arr[i] == target:\n",
    "            return i\n",
    "    return -1\n"
   ]
  },
  {
   "attachments": {},
   "cell_type": "markdown",
   "metadata": {},
   "source": [
    "This algorithm iterates through each element in the list and checks if it matches the target value. If it finds a match, it returns the index of the matching element. If it reaches the end of the list without finding a match, it returns -1.\n",
    "\n",
    "The worst-case scenario for this algorithm occurs when the target value is not present in the list, and the algorithm must iterate through all n elements before returning -1. In this case, the running time of the algorithm is O(n), because the number of operations required is proportional to the size of the input list."
   ]
  },
  {
   "attachments": {},
   "cell_type": "markdown",
   "metadata": {},
   "source": [
    "Another example of worst-case scenario is sorting algorithms. For example, consider the following implementation of the selection sort algorithm:"
   ]
  },
  {
   "cell_type": "code",
   "execution_count": 2,
   "metadata": {},
   "outputs": [],
   "source": [
    "def selection_sort(arr):\n",
    "    for i in range(len(arr)):\n",
    "        min_idx = i\n",
    "        for j in range(i+1, len(arr)):\n",
    "            if arr[j] < arr[min_idx]:\n",
    "                min_idx = j\n",
    "        arr[i], arr[min_idx] = arr[min_idx], arr[i]\n",
    "    return arr\n"
   ]
  },
  {
   "attachments": {},
   "cell_type": "markdown",
   "metadata": {},
   "source": [
    "The worst-case scenario for this algorithm occurs when the input list is already sorted in reverse order. \n",
    "\n",
    "In this case, the inner loop will execute n-1 comparisons for the first iteration of the outer loop, `n-2` comparisons for the second iteration, and so on, resulting in a total of `(n-1) + (n-2) + ... + 2 + 1 = n(n-1)/2` comparisons. The running time of the algorithm is `O(n^2)`, because the number of operations required is proportional to the square of the size of the input list.\n",
    "\n",
    "In summary, the worst-case scenario for an algorithm occurs when the input data or situation causes the algorithm to take the longest amount of time or require the most resources to complete its task. By analyzing the worst-case scenario, we can determine the upper bound on the running time or resource usage of an algorithm and make informed decisions about its suitability for a given problem."
   ]
  },
  {
   "cell_type": "code",
   "execution_count": null,
   "metadata": {},
   "outputs": [],
   "source": []
  },
  {
   "cell_type": "code",
   "execution_count": null,
   "metadata": {},
   "outputs": [],
   "source": []
  }
 ],
 "metadata": {
  "kernelspec": {
   "display_name": "base",
   "language": "python",
   "name": "python3"
  },
  "language_info": {
   "codemirror_mode": {
    "name": "ipython",
    "version": 3
   },
   "file_extension": ".py",
   "mimetype": "text/x-python",
   "name": "python",
   "nbconvert_exporter": "python",
   "pygments_lexer": "ipython3",
   "version": "3.9.13"
  },
  "orig_nbformat": 4,
  "vscode": {
   "interpreter": {
    "hash": "12686f5c8f2146f3ebd31189e791edaca469a5f033bca17d54c2d16ca276d9c0"
   }
  }
 },
 "nbformat": 4,
 "nbformat_minor": 2
}
