{
 "cells": [
  {
   "attachments": {},
   "cell_type": "markdown",
   "metadata": {},
   "source": [
    "# What is Big O Notation\n",
    "\n",
    "- Big O notation is a mathematical notation that is used to describe the time and space complexity of algorithms. It is used to analyze the efficiency of an algorithm in terms of its performance as the input size grows larger.\n",
    "\n",
    "- Big O notation describes the upper bound of the running time or memory usage of an algorithm as a function of the input size. It is represented as O(f(n)), where f(n) is a function that represents the maximum number of operations or memory units required to solve the problem for an input of size n.\n",
    "\n",
    "- For example, if an algorithm has a time complexity of ``O(n)``, this means that the algorithm's running time increases linearly with the input size. If the input size doubles, the running time will also double. Similarly, if an algorithm has a space complexity of ``O(n^2)``, this means that the algorithm requires a maximum of ``n^2`` units of memory to solve the problem for an input of size n.\n",
    "\n",
    "Big O notation provides a useful tool for comparing the efficiency of different algorithms and identifying bottlenecks in software systems. By analyzing the time and space complexity of an algorithm using Big O notation, developers can determine which algorithms are the most efficient for a given problem and optimize their code accordingly.\n",
    "\n",
    "In summary, Big O notation is a mathematical notation used to describe the time and space complexity of algorithms. It helps developers to analyze and compare the efficiency of different algorithms and optimize their code to improve performance."
   ]
  },
  {
   "attachments": {},
   "cell_type": "markdown",
   "metadata": {},
   "source": [
    "**Sample Python code and compare two different implementations to demonstrate how Big O notation can be used to analyze the performance of algorithms.**\n",
    "\n",
    "Let's say we want to find the sum of all numbers in a list of length n. Here's one implementation:"
   ]
  },
  {
   "cell_type": "code",
   "execution_count": 1,
   "metadata": {},
   "outputs": [],
   "source": [
    "def sum_list(nums):\n",
    "    total = 0\n",
    "    for num in nums:\n",
    "        total += num\n",
    "    return total\n"
   ]
  },
  {
   "attachments": {},
   "cell_type": "markdown",
   "metadata": {},
   "source": [
    "This implementation uses a for loop to iterate over each number in the list and adds it to a running total. The time complexity of this algorithm is O(n), because the number of operations required is directly proportional to the size of the input list."
   ]
  },
  {
   "attachments": {},
   "cell_type": "markdown",
   "metadata": {},
   "source": [
    "Now, let's compare this implementation to another implementation that uses a built-in function to sum the list:"
   ]
  },
  {
   "cell_type": "code",
   "execution_count": 2,
   "metadata": {},
   "outputs": [],
   "source": [
    "def sum_list_builtin(nums):\n",
    "    return sum(nums)\n"
   ]
  },
  {
   "attachments": {},
   "cell_type": "markdown",
   "metadata": {},
   "source": [
    "This implementation uses the ``sum`` function provided by Python, which adds up all the elements in the list and returns the total. The time complexity of this algorithm is also ``O(n)``, because the ``sum`` function must iterate over each element in the list to compute the sum.\n",
    "\n",
    "Although both implementations have the same time complexity, there may be differences in their performance depending on other factors such as the size of the input and the underlying implementation of the built-in ``sum`` function.\n",
    "\n",
    "By using ``Big O`` notation, we can compare the performance of different algorithms and make informed decisions about which implementation is the most efficient for a given problem."
   ]
  },
  {
   "cell_type": "code",
   "execution_count": null,
   "metadata": {},
   "outputs": [],
   "source": []
  }
 ],
 "metadata": {
  "kernelspec": {
   "display_name": "base",
   "language": "python",
   "name": "python3"
  },
  "language_info": {
   "codemirror_mode": {
    "name": "ipython",
    "version": 3
   },
   "file_extension": ".py",
   "mimetype": "text/x-python",
   "name": "python",
   "nbconvert_exporter": "python",
   "pygments_lexer": "ipython3",
   "version": "3.9.13"
  },
  "orig_nbformat": 4,
  "vscode": {
   "interpreter": {
    "hash": "12686f5c8f2146f3ebd31189e791edaca469a5f033bca17d54c2d16ca276d9c0"
   }
  }
 },
 "nbformat": 4,
 "nbformat_minor": 2
}
